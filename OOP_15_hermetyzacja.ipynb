{
  "nbformat": 4,
  "nbformat_minor": 0,
  "metadata": {
    "colab": {
      "provenance": [],
      "collapsed_sections": [],
      "authorship_tag": "ABX9TyNYkedqIhZL3rsg6V7OtiDN",
      "include_colab_link": true
    },
    "kernelspec": {
      "name": "python3",
      "display_name": "Python 3"
    },
    "language_info": {
      "name": "python"
    }
  },
  "cells": [
    {
      "cell_type": "markdown",
      "metadata": {
        "id": "view-in-github",
        "colab_type": "text"
      },
      "source": [
        "<a href=\"https://colab.research.google.com/github/sylweltan/colab-oop-public/blob/main/OOP_15_hermetyzacja.ipynb\" target=\"_parent\"><img src=\"https://colab.research.google.com/assets/colab-badge.svg\" alt=\"Open In Colab\"/></a>"
      ]
    },
    {
      "cell_type": "markdown",
      "source": [
        "# Hermetyzacja / Enkapsulacja OOP 15 ⚡"
      ],
      "metadata": {
        "id": "QsuxONWecqdO"
      }
    },
    {
      "cell_type": "code",
      "execution_count": null,
      "metadata": {
        "colab": {
          "base_uri": "https://localhost:8080/"
        },
        "id": "jglfhF3nckv3",
        "outputId": "5a28aaa8-df4b-489c-f05e-30cf8bc9a9a5"
      },
      "outputs": [
        {
          "output_type": "execute_result",
          "data": {
            "text/plain": [
              "{'price': 'Apple'}"
            ]
          },
          "metadata": {},
          "execution_count": 3
        }
      ],
      "source": [
        "class Phone:\n",
        "\n",
        "  def __init__(self, price):\n",
        "    self.price = price\n",
        "\n",
        "phone = Phone('Apple')\n",
        "phone.__dict__"
      ]
    },
    {
      "cell_type": "code",
      "source": [
        "phone.price = 'John'"
      ],
      "metadata": {
        "id": "4tyRebBeeQFl"
      },
      "execution_count": null,
      "outputs": []
    },
    {
      "cell_type": "code",
      "source": [
        "phone.price"
      ],
      "metadata": {
        "colab": {
          "base_uri": "https://localhost:8080/",
          "height": 36
        },
        "id": "ANL5hPQ6eVpo",
        "outputId": "04d94913-26d0-4ba4-bab3-52875c1620b8"
      },
      "execution_count": null,
      "outputs": [
        {
          "output_type": "execute_result",
          "data": {
            "application/vnd.google.colaboratory.intrinsic+json": {
              "type": "string"
            },
            "text/plain": [
              "'John'"
            ]
          },
          "metadata": {},
          "execution_count": 5
        }
      ]
    },
    {
      "cell_type": "code",
      "source": [
        "class Phone:\n",
        "\n",
        "  def __init__(self, price):\n",
        "    self._price = price\n",
        "\n",
        "  def get_price(self):\n",
        "    return self._price\n",
        "\n",
        "  def set_price(self, value):\n",
        "    self._price = value\n",
        "\n",
        "\n",
        "phone = Phone(2490)\n",
        "phone.__dict__"
      ],
      "metadata": {
        "colab": {
          "base_uri": "https://localhost:8080/"
        },
        "id": "F-7V0JKweYsa",
        "outputId": "89f423fe-4ec9-479a-dec1-94bcbce99a3f"
      },
      "execution_count": null,
      "outputs": [
        {
          "output_type": "execute_result",
          "data": {
            "text/plain": [
              "{'_price': 2490}"
            ]
          },
          "metadata": {},
          "execution_count": 6
        }
      ]
    },
    {
      "cell_type": "code",
      "source": [
        "phone.get_price()"
      ],
      "metadata": {
        "colab": {
          "base_uri": "https://localhost:8080/"
        },
        "id": "ELrIIcndevmU",
        "outputId": "626f320e-78d0-4929-ea1b-70111a703fb5"
      },
      "execution_count": null,
      "outputs": [
        {
          "output_type": "execute_result",
          "data": {
            "text/plain": [
              "2490"
            ]
          },
          "metadata": {},
          "execution_count": 7
        }
      ]
    },
    {
      "cell_type": "code",
      "source": [
        "phone.set_price(3000)"
      ],
      "metadata": {
        "id": "ud7484tyexpG"
      },
      "execution_count": null,
      "outputs": []
    },
    {
      "cell_type": "code",
      "source": [
        "phone.get_price()"
      ],
      "metadata": {
        "colab": {
          "base_uri": "https://localhost:8080/"
        },
        "id": "5yig3W1Ve12S",
        "outputId": "cbafb5e2-ea09-4d16-986a-045225d81c9d"
      },
      "execution_count": null,
      "outputs": [
        {
          "output_type": "execute_result",
          "data": {
            "text/plain": [
              "3000"
            ]
          },
          "metadata": {},
          "execution_count": 9
        }
      ]
    },
    {
      "cell_type": "code",
      "source": [
        "phone.__dict__"
      ],
      "metadata": {
        "colab": {
          "base_uri": "https://localhost:8080/"
        },
        "id": "Qajkp7ege4AW",
        "outputId": "0546a51f-e25b-4e3e-cf45-6baa5aa3b968"
      },
      "execution_count": null,
      "outputs": [
        {
          "output_type": "execute_result",
          "data": {
            "text/plain": [
              "{'_price': 3000}"
            ]
          },
          "metadata": {},
          "execution_count": 10
        }
      ]
    },
    {
      "cell_type": "code",
      "source": [
        "class Phone:\n",
        "\n",
        "  def __init__(self, price):\n",
        "    self._price = price\n",
        "\n",
        "  def get_price(self):\n",
        "    return self._price\n",
        "\n",
        "  def set_price(self, value):\n",
        "    if isinstance(value, (int, float)):\n",
        "      self._price = value\n",
        "    else:\n",
        "      raise TypeError('The price attribute must be int or float value.')\n"
      ],
      "metadata": {
        "id": "FIzdvHt4fH1n"
      },
      "execution_count": null,
      "outputs": []
    },
    {
      "cell_type": "code",
      "source": [
        "phone = Phone(2000)\n",
        "phone.__dict__"
      ],
      "metadata": {
        "colab": {
          "base_uri": "https://localhost:8080/"
        },
        "id": "uwuWNNwIfbs_",
        "outputId": "20b481bb-005f-4168-fbf1-694cf17b3103"
      },
      "execution_count": null,
      "outputs": [
        {
          "output_type": "execute_result",
          "data": {
            "text/plain": [
              "{'_price': 2000}"
            ]
          },
          "metadata": {},
          "execution_count": 13
        }
      ]
    },
    {
      "cell_type": "code",
      "source": [
        "phone.set_price('Apple')"
      ],
      "metadata": {
        "colab": {
          "base_uri": "https://localhost:8080/",
          "height": 264
        },
        "id": "W4Bu9so5fhWv",
        "outputId": "e1502240-0005-4568-fd2b-7dabf42ec9b6"
      },
      "execution_count": null,
      "outputs": [
        {
          "output_type": "error",
          "ename": "TypeError",
          "evalue": "ignored",
          "traceback": [
            "\u001b[0;31m---------------------------------------------------------------------------\u001b[0m",
            "\u001b[0;31mTypeError\u001b[0m                                 Traceback (most recent call last)",
            "\u001b[0;32m<ipython-input-14-a93e4acf8c73>\u001b[0m in \u001b[0;36m<module>\u001b[0;34m()\u001b[0m\n\u001b[0;32m----> 1\u001b[0;31m \u001b[0mphone\u001b[0m\u001b[0;34m.\u001b[0m\u001b[0mset_price\u001b[0m\u001b[0;34m(\u001b[0m\u001b[0;34m'Apple'\u001b[0m\u001b[0;34m)\u001b[0m\u001b[0;34m\u001b[0m\u001b[0;34m\u001b[0m\u001b[0m\n\u001b[0m",
            "\u001b[0;32m<ipython-input-12-a2fbbaf43fe0>\u001b[0m in \u001b[0;36mset_price\u001b[0;34m(self, value)\u001b[0m\n\u001b[1;32m     11\u001b[0m       \u001b[0mself\u001b[0m\u001b[0;34m.\u001b[0m\u001b[0m_price\u001b[0m \u001b[0;34m=\u001b[0m \u001b[0mvalue\u001b[0m\u001b[0;34m\u001b[0m\u001b[0;34m\u001b[0m\u001b[0m\n\u001b[1;32m     12\u001b[0m     \u001b[0;32melse\u001b[0m\u001b[0;34m:\u001b[0m\u001b[0;34m\u001b[0m\u001b[0;34m\u001b[0m\u001b[0m\n\u001b[0;32m---> 13\u001b[0;31m       \u001b[0;32mraise\u001b[0m \u001b[0mTypeError\u001b[0m\u001b[0;34m(\u001b[0m\u001b[0;34m'The price attribute must be int or float value.'\u001b[0m\u001b[0;34m)\u001b[0m\u001b[0;34m\u001b[0m\u001b[0;34m\u001b[0m\u001b[0m\n\u001b[0m",
            "\u001b[0;31mTypeError\u001b[0m: The price attribute must be int or float value."
          ]
        }
      ]
    },
    {
      "cell_type": "code",
      "source": [
        "phone.set_price(-4000)"
      ],
      "metadata": {
        "id": "LDhEP6QMf3OM"
      },
      "execution_count": null,
      "outputs": []
    },
    {
      "cell_type": "code",
      "source": [
        "phone.get_price()"
      ],
      "metadata": {
        "colab": {
          "base_uri": "https://localhost:8080/"
        },
        "id": "gNqsor_Yf5i9",
        "outputId": "5042ea56-60a5-4b07-d389-aa68f2ea8dd0"
      },
      "execution_count": null,
      "outputs": [
        {
          "output_type": "execute_result",
          "data": {
            "text/plain": [
              "-4000"
            ]
          },
          "metadata": {},
          "execution_count": 16
        }
      ]
    },
    {
      "cell_type": "code",
      "source": [
        "class Phone:\n",
        "\n",
        "  def __init__(self, price):\n",
        "    self._price = price\n",
        "\n",
        "  def get_price(self):\n",
        "    return self._price\n",
        "\n",
        "  def set_price(self, value):\n",
        "    if isinstance(value, (int, float)):\n",
        "      if value > 0:\n",
        "        self._price = value\n",
        "      else:\n",
        "        raise ValueError('The price attribute must be positive')\n",
        "    else:\n",
        "      raise TypeError('The price attribute must be int or float value.')\n"
      ],
      "metadata": {
        "id": "NxxFJ0gaf9HH"
      },
      "execution_count": null,
      "outputs": []
    },
    {
      "cell_type": "code",
      "source": [
        "phone = Phone(1500)"
      ],
      "metadata": {
        "id": "LUNP8uSUgHHK"
      },
      "execution_count": null,
      "outputs": []
    },
    {
      "cell_type": "code",
      "source": [
        "phone.set_price(1900)"
      ],
      "metadata": {
        "id": "iiCOGkjCgK5X"
      },
      "execution_count": null,
      "outputs": []
    },
    {
      "cell_type": "code",
      "source": [
        "phone.set_price(1900.0)"
      ],
      "metadata": {
        "id": "GXWZhDTNgSq3"
      },
      "execution_count": null,
      "outputs": []
    },
    {
      "cell_type": "code",
      "source": [
        "phone.get_price()"
      ],
      "metadata": {
        "colab": {
          "base_uri": "https://localhost:8080/"
        },
        "id": "xNAvSlW2gU0N",
        "outputId": "f794aca6-b3bd-48d2-8a6e-a656352c0693"
      },
      "execution_count": null,
      "outputs": [
        {
          "output_type": "execute_result",
          "data": {
            "text/plain": [
              "1900.0"
            ]
          },
          "metadata": {},
          "execution_count": 24
        }
      ]
    },
    {
      "cell_type": "code",
      "source": [
        "phone.set_price('1900.0')"
      ],
      "metadata": {
        "colab": {
          "base_uri": "https://localhost:8080/",
          "height": 264
        },
        "id": "0Je405aZgXcG",
        "outputId": "40c2afa8-f0c8-460f-9af5-92abf0b6ee5b"
      },
      "execution_count": null,
      "outputs": [
        {
          "output_type": "error",
          "ename": "TypeError",
          "evalue": "ignored",
          "traceback": [
            "\u001b[0;31m---------------------------------------------------------------------------\u001b[0m",
            "\u001b[0;31mTypeError\u001b[0m                                 Traceback (most recent call last)",
            "\u001b[0;32m<ipython-input-25-289ffab00884>\u001b[0m in \u001b[0;36m<module>\u001b[0;34m()\u001b[0m\n\u001b[0;32m----> 1\u001b[0;31m \u001b[0mphone\u001b[0m\u001b[0;34m.\u001b[0m\u001b[0mset_price\u001b[0m\u001b[0;34m(\u001b[0m\u001b[0;34m'1900.0'\u001b[0m\u001b[0;34m)\u001b[0m\u001b[0;34m\u001b[0m\u001b[0;34m\u001b[0m\u001b[0m\n\u001b[0m",
            "\u001b[0;32m<ipython-input-17-ea14b1cb0c4d>\u001b[0m in \u001b[0;36mset_price\u001b[0;34m(self, value)\u001b[0m\n\u001b[1;32m     14\u001b[0m         \u001b[0;32mraise\u001b[0m \u001b[0mValueError\u001b[0m\u001b[0;34m(\u001b[0m\u001b[0;34m'The price attribute must be positive'\u001b[0m\u001b[0;34m)\u001b[0m\u001b[0;34m\u001b[0m\u001b[0;34m\u001b[0m\u001b[0m\n\u001b[1;32m     15\u001b[0m     \u001b[0;32melse\u001b[0m\u001b[0;34m:\u001b[0m\u001b[0;34m\u001b[0m\u001b[0;34m\u001b[0m\u001b[0m\n\u001b[0;32m---> 16\u001b[0;31m       \u001b[0;32mraise\u001b[0m \u001b[0mTypeError\u001b[0m\u001b[0;34m(\u001b[0m\u001b[0;34m'The price attribute must be int or float value.'\u001b[0m\u001b[0;34m)\u001b[0m\u001b[0;34m\u001b[0m\u001b[0;34m\u001b[0m\u001b[0m\n\u001b[0m",
            "\u001b[0;31mTypeError\u001b[0m: The price attribute must be int or float value."
          ]
        }
      ]
    },
    {
      "cell_type": "code",
      "source": [
        "phone.set_price(-29)"
      ],
      "metadata": {
        "colab": {
          "base_uri": "https://localhost:8080/",
          "height": 301
        },
        "id": "2FmLTtuSgaR8",
        "outputId": "f784f20f-ed3d-432e-cfe7-8aa4458ebd91"
      },
      "execution_count": null,
      "outputs": [
        {
          "output_type": "error",
          "ename": "ValueError",
          "evalue": "ignored",
          "traceback": [
            "\u001b[0;31m---------------------------------------------------------------------------\u001b[0m",
            "\u001b[0;31mValueError\u001b[0m                                Traceback (most recent call last)",
            "\u001b[0;32m<ipython-input-26-3bd96e0cb22d>\u001b[0m in \u001b[0;36m<module>\u001b[0;34m()\u001b[0m\n\u001b[0;32m----> 1\u001b[0;31m \u001b[0mphone\u001b[0m\u001b[0;34m.\u001b[0m\u001b[0mset_price\u001b[0m\u001b[0;34m(\u001b[0m\u001b[0;34m-\u001b[0m\u001b[0;36m29\u001b[0m\u001b[0;34m)\u001b[0m\u001b[0;34m\u001b[0m\u001b[0;34m\u001b[0m\u001b[0m\n\u001b[0m",
            "\u001b[0;32m<ipython-input-17-ea14b1cb0c4d>\u001b[0m in \u001b[0;36mset_price\u001b[0;34m(self, value)\u001b[0m\n\u001b[1;32m     12\u001b[0m         \u001b[0mself\u001b[0m\u001b[0;34m.\u001b[0m\u001b[0m_price\u001b[0m \u001b[0;34m=\u001b[0m \u001b[0mvalue\u001b[0m\u001b[0;34m\u001b[0m\u001b[0;34m\u001b[0m\u001b[0m\n\u001b[1;32m     13\u001b[0m       \u001b[0;32melse\u001b[0m\u001b[0;34m:\u001b[0m\u001b[0;34m\u001b[0m\u001b[0;34m\u001b[0m\u001b[0m\n\u001b[0;32m---> 14\u001b[0;31m         \u001b[0;32mraise\u001b[0m \u001b[0mValueError\u001b[0m\u001b[0;34m(\u001b[0m\u001b[0;34m'The price attribute must be positive'\u001b[0m\u001b[0;34m)\u001b[0m\u001b[0;34m\u001b[0m\u001b[0;34m\u001b[0m\u001b[0m\n\u001b[0m\u001b[1;32m     15\u001b[0m     \u001b[0;32melse\u001b[0m\u001b[0;34m:\u001b[0m\u001b[0;34m\u001b[0m\u001b[0;34m\u001b[0m\u001b[0m\n\u001b[1;32m     16\u001b[0m       \u001b[0;32mraise\u001b[0m \u001b[0mTypeError\u001b[0m\u001b[0;34m(\u001b[0m\u001b[0;34m'The price attribute must be int or float value.'\u001b[0m\u001b[0;34m)\u001b[0m\u001b[0;34m\u001b[0m\u001b[0;34m\u001b[0m\u001b[0m\n",
            "\u001b[0;31mValueError\u001b[0m: The price attribute must be positive"
          ]
        }
      ]
    },
    {
      "cell_type": "code",
      "source": [
        "phone2 = Phone('Apple')\n",
        "phone2.get_price()"
      ],
      "metadata": {
        "colab": {
          "base_uri": "https://localhost:8080/",
          "height": 36
        },
        "id": "wX-emhdugskk",
        "outputId": "e98a0489-880a-4049-ec26-301e57982bf2"
      },
      "execution_count": null,
      "outputs": [
        {
          "output_type": "execute_result",
          "data": {
            "application/vnd.google.colaboratory.intrinsic+json": {
              "type": "string"
            },
            "text/plain": [
              "'Apple'"
            ]
          },
          "metadata": {},
          "execution_count": 27
        }
      ]
    },
    {
      "cell_type": "code",
      "source": [
        "class Phone:\n",
        "\n",
        "  def __init__(self, price):\n",
        "    self.set_price(price)\n",
        "\n",
        "  def get_price(self):\n",
        "    return self._price\n",
        "\n",
        "  def set_price(self, value):\n",
        "    if isinstance(value, (int, float)):\n",
        "      if value > 0:\n",
        "        self._price = value\n",
        "      else:\n",
        "        raise ValueError('The price attribute must be positive')\n",
        "    else:\n",
        "      raise TypeError('The price attribute must be int or float value.')\n"
      ],
      "metadata": {
        "id": "HT-uN4Vtg1QJ"
      },
      "execution_count": null,
      "outputs": []
    },
    {
      "cell_type": "code",
      "source": [
        "phone = Phone(-25)"
      ],
      "metadata": {
        "colab": {
          "base_uri": "https://localhost:8080/",
          "height": 325
        },
        "id": "eTfoSSyQg7zt",
        "outputId": "79cd164f-94d3-4f26-a21b-000dc6860ec7"
      },
      "execution_count": null,
      "outputs": [
        {
          "output_type": "error",
          "ename": "ValueError",
          "evalue": "ignored",
          "traceback": [
            "\u001b[0;31m---------------------------------------------------------------------------\u001b[0m",
            "\u001b[0;31mValueError\u001b[0m                                Traceback (most recent call last)",
            "\u001b[0;32m<ipython-input-29-421ecbe8df47>\u001b[0m in \u001b[0;36m<module>\u001b[0;34m()\u001b[0m\n\u001b[0;32m----> 1\u001b[0;31m \u001b[0mphone\u001b[0m \u001b[0;34m=\u001b[0m \u001b[0mPhone\u001b[0m\u001b[0;34m(\u001b[0m\u001b[0;34m-\u001b[0m\u001b[0;36m25\u001b[0m\u001b[0;34m)\u001b[0m\u001b[0;34m\u001b[0m\u001b[0;34m\u001b[0m\u001b[0m\n\u001b[0m",
            "\u001b[0;32m<ipython-input-28-b2d8d6559b30>\u001b[0m in \u001b[0;36m__init__\u001b[0;34m(self, price)\u001b[0m\n\u001b[1;32m      2\u001b[0m \u001b[0;34m\u001b[0m\u001b[0m\n\u001b[1;32m      3\u001b[0m   \u001b[0;32mdef\u001b[0m \u001b[0m__init__\u001b[0m\u001b[0;34m(\u001b[0m\u001b[0mself\u001b[0m\u001b[0;34m,\u001b[0m \u001b[0mprice\u001b[0m\u001b[0;34m)\u001b[0m\u001b[0;34m:\u001b[0m\u001b[0;34m\u001b[0m\u001b[0;34m\u001b[0m\u001b[0m\n\u001b[0;32m----> 4\u001b[0;31m     \u001b[0mself\u001b[0m\u001b[0;34m.\u001b[0m\u001b[0mset_price\u001b[0m\u001b[0;34m(\u001b[0m\u001b[0mprice\u001b[0m\u001b[0;34m)\u001b[0m\u001b[0;34m\u001b[0m\u001b[0;34m\u001b[0m\u001b[0m\n\u001b[0m\u001b[1;32m      5\u001b[0m \u001b[0;34m\u001b[0m\u001b[0m\n\u001b[1;32m      6\u001b[0m   \u001b[0;32mdef\u001b[0m \u001b[0mget_price\u001b[0m\u001b[0;34m(\u001b[0m\u001b[0mself\u001b[0m\u001b[0;34m)\u001b[0m\u001b[0;34m:\u001b[0m\u001b[0;34m\u001b[0m\u001b[0;34m\u001b[0m\u001b[0m\n",
            "\u001b[0;32m<ipython-input-28-b2d8d6559b30>\u001b[0m in \u001b[0;36mset_price\u001b[0;34m(self, value)\u001b[0m\n\u001b[1;32m     12\u001b[0m         \u001b[0mself\u001b[0m\u001b[0;34m.\u001b[0m\u001b[0m_price\u001b[0m \u001b[0;34m=\u001b[0m \u001b[0mvalue\u001b[0m\u001b[0;34m\u001b[0m\u001b[0;34m\u001b[0m\u001b[0m\n\u001b[1;32m     13\u001b[0m       \u001b[0;32melse\u001b[0m\u001b[0;34m:\u001b[0m\u001b[0;34m\u001b[0m\u001b[0;34m\u001b[0m\u001b[0m\n\u001b[0;32m---> 14\u001b[0;31m         \u001b[0;32mraise\u001b[0m \u001b[0mValueError\u001b[0m\u001b[0;34m(\u001b[0m\u001b[0;34m'The price attribute must be positive'\u001b[0m\u001b[0;34m)\u001b[0m\u001b[0;34m\u001b[0m\u001b[0;34m\u001b[0m\u001b[0m\n\u001b[0m\u001b[1;32m     15\u001b[0m     \u001b[0;32melse\u001b[0m\u001b[0;34m:\u001b[0m\u001b[0;34m\u001b[0m\u001b[0;34m\u001b[0m\u001b[0m\n\u001b[1;32m     16\u001b[0m       \u001b[0;32mraise\u001b[0m \u001b[0mTypeError\u001b[0m\u001b[0;34m(\u001b[0m\u001b[0;34m'The price attribute must be int or float value.'\u001b[0m\u001b[0;34m)\u001b[0m\u001b[0;34m\u001b[0m\u001b[0;34m\u001b[0m\u001b[0m\n",
            "\u001b[0;31mValueError\u001b[0m: The price attribute must be positive"
          ]
        }
      ]
    },
    {
      "cell_type": "markdown",
      "source": [
        "# Tworzenie właściwości - property()\n",
        "\n",
        "property(fget=None, fset=None, fdel=None, doc=None) -> property attribute"
      ],
      "metadata": {
        "id": "B_AgarlRhRja"
      }
    },
    {
      "cell_type": "code",
      "source": [
        "help(property)"
      ],
      "metadata": {
        "id": "yruK7yEhhQX_"
      },
      "execution_count": null,
      "outputs": []
    },
    {
      "cell_type": "code",
      "source": [
        "class Phone:\n",
        "  def __init__(self, price):\n",
        "    self._price = price\n",
        "\n",
        "  def get_price(self):\n",
        "    print('getting ...')\n",
        "    return self._price\n"
      ],
      "metadata": {
        "id": "M9rmpRrHh4ma"
      },
      "execution_count": null,
      "outputs": []
    },
    {
      "cell_type": "code",
      "source": [
        "phone = Phone(1200)\n",
        "phone.get_price()"
      ],
      "metadata": {
        "colab": {
          "base_uri": "https://localhost:8080/"
        },
        "id": "03Nq2pjBiGwG",
        "outputId": "df189ff0-c044-4902-94a7-1a65aa08b7b2"
      },
      "execution_count": null,
      "outputs": [
        {
          "output_type": "stream",
          "name": "stdout",
          "text": [
            "getting ...\n"
          ]
        },
        {
          "output_type": "execute_result",
          "data": {
            "text/plain": [
              "1200"
            ]
          },
          "metadata": {},
          "execution_count": 34
        }
      ]
    },
    {
      "cell_type": "code",
      "source": [
        "class Phone:\n",
        "  def __init__(self, price):\n",
        "    self._price = price\n",
        "\n",
        "  def get_price(self):\n",
        "    print('getting ...')\n",
        "    return self._price\n",
        "\n",
        "  price = property(fget=get_price)\n",
        "\n",
        "Phone.__dict__"
      ],
      "metadata": {
        "id": "BZ-FgG2AiPKt"
      },
      "execution_count": null,
      "outputs": []
    },
    {
      "cell_type": "code",
      "source": [
        "phone = Phone(1200)\n",
        "phone.get_price()"
      ],
      "metadata": {
        "colab": {
          "base_uri": "https://localhost:8080/"
        },
        "id": "66OkStjnihR3",
        "outputId": "10704912-0d53-4e19-ae29-fc1b819ddefc"
      },
      "execution_count": null,
      "outputs": [
        {
          "output_type": "stream",
          "name": "stdout",
          "text": [
            "getting ...\n"
          ]
        },
        {
          "output_type": "execute_result",
          "data": {
            "text/plain": [
              "1200"
            ]
          },
          "metadata": {},
          "execution_count": 37
        }
      ]
    },
    {
      "cell_type": "code",
      "source": [
        "phone.price"
      ],
      "metadata": {
        "colab": {
          "base_uri": "https://localhost:8080/"
        },
        "id": "W2y8m9XridHG",
        "outputId": "1a9db42c-9079-4d54-ae7b-6eeef14f95b2"
      },
      "execution_count": null,
      "outputs": [
        {
          "output_type": "stream",
          "name": "stdout",
          "text": [
            "getting ...\n"
          ]
        },
        {
          "output_type": "execute_result",
          "data": {
            "text/plain": [
              "1200"
            ]
          },
          "metadata": {},
          "execution_count": 38
        }
      ]
    },
    {
      "cell_type": "code",
      "source": [
        "phone.price = '200'"
      ],
      "metadata": {
        "colab": {
          "base_uri": "https://localhost:8080/",
          "height": 172
        },
        "id": "WNcY4ULVjSyW",
        "outputId": "dc994580-d307-458a-8826-7a9b94702c5b"
      },
      "execution_count": null,
      "outputs": [
        {
          "output_type": "error",
          "ename": "AttributeError",
          "evalue": "ignored",
          "traceback": [
            "\u001b[0;31m---------------------------------------------------------------------------\u001b[0m",
            "\u001b[0;31mAttributeError\u001b[0m                            Traceback (most recent call last)",
            "\u001b[0;32m<ipython-input-39-e91967a7bba9>\u001b[0m in \u001b[0;36m<module>\u001b[0;34m()\u001b[0m\n\u001b[0;32m----> 1\u001b[0;31m \u001b[0mphone\u001b[0m\u001b[0;34m.\u001b[0m\u001b[0mprice\u001b[0m \u001b[0;34m=\u001b[0m \u001b[0;34m'200'\u001b[0m\u001b[0;34m\u001b[0m\u001b[0;34m\u001b[0m\u001b[0m\n\u001b[0m",
            "\u001b[0;31mAttributeError\u001b[0m: can't set attribute"
          ]
        }
      ]
    },
    {
      "cell_type": "markdown",
      "source": [
        "# getter + setter"
      ],
      "metadata": {
        "id": "IXQZU3lajiWK"
      }
    },
    {
      "cell_type": "code",
      "source": [
        "class Phone:\n",
        "  def __init__(self, price):\n",
        "    self._price = price\n",
        "\n",
        "  def get_price(self):\n",
        "    print('getting ...')\n",
        "    return self._price\n",
        "\n",
        "  def set_price(self, value):\n",
        "    print('setting ...')\n",
        "    if isinstance(value, (int, float)):\n",
        "      if value > 0:\n",
        "        self._price = value\n",
        "      else:\n",
        "        raise ValueError('The price attribute must be positive')\n",
        "    else:\n",
        "      raise TypeError('The price attribute must be int or float value.')\n",
        "\n",
        "  price = property(fget=get_price, fset=set_price)\n",
        "\n",
        "Phone.__dict__"
      ],
      "metadata": {
        "id": "ZjMTzDofjkBs"
      },
      "execution_count": null,
      "outputs": []
    },
    {
      "cell_type": "code",
      "source": [
        "phone1 = Phone(3000)\n",
        "phone1.price"
      ],
      "metadata": {
        "colab": {
          "base_uri": "https://localhost:8080/"
        },
        "id": "Ru-Pn-dVj3VA",
        "outputId": "1ba88d30-7449-4235-a1c1-749789501b03"
      },
      "execution_count": null,
      "outputs": [
        {
          "output_type": "stream",
          "name": "stdout",
          "text": [
            "getting ...\n"
          ]
        },
        {
          "output_type": "execute_result",
          "data": {
            "text/plain": [
              "3000"
            ]
          },
          "metadata": {},
          "execution_count": 44
        }
      ]
    },
    {
      "cell_type": "code",
      "source": [
        "phone1.price = -2"
      ],
      "metadata": {
        "colab": {
          "base_uri": "https://localhost:8080/",
          "height": 319
        },
        "id": "ZKY0zB5OkDXZ",
        "outputId": "0d4cc0f0-c2f3-4697-a5d1-6e7c0c6c7e9a"
      },
      "execution_count": null,
      "outputs": [
        {
          "output_type": "stream",
          "name": "stdout",
          "text": [
            "setting ...\n"
          ]
        },
        {
          "output_type": "error",
          "ename": "ValueError",
          "evalue": "ignored",
          "traceback": [
            "\u001b[0;31m---------------------------------------------------------------------------\u001b[0m",
            "\u001b[0;31mValueError\u001b[0m                                Traceback (most recent call last)",
            "\u001b[0;32m<ipython-input-46-7de38e946ac2>\u001b[0m in \u001b[0;36m<module>\u001b[0;34m()\u001b[0m\n\u001b[0;32m----> 1\u001b[0;31m \u001b[0mphone1\u001b[0m\u001b[0;34m.\u001b[0m\u001b[0mprice\u001b[0m \u001b[0;34m=\u001b[0m \u001b[0;34m-\u001b[0m\u001b[0;36m2\u001b[0m\u001b[0;34m\u001b[0m\u001b[0;34m\u001b[0m\u001b[0m\n\u001b[0m",
            "\u001b[0;32m<ipython-input-43-016b38439874>\u001b[0m in \u001b[0;36mset_price\u001b[0;34m(self, value)\u001b[0m\n\u001b[1;32m     13\u001b[0m         \u001b[0mself\u001b[0m\u001b[0;34m.\u001b[0m\u001b[0m_price\u001b[0m \u001b[0;34m=\u001b[0m \u001b[0mvalue\u001b[0m\u001b[0;34m\u001b[0m\u001b[0;34m\u001b[0m\u001b[0m\n\u001b[1;32m     14\u001b[0m       \u001b[0;32melse\u001b[0m\u001b[0;34m:\u001b[0m\u001b[0;34m\u001b[0m\u001b[0;34m\u001b[0m\u001b[0m\n\u001b[0;32m---> 15\u001b[0;31m         \u001b[0;32mraise\u001b[0m \u001b[0mValueError\u001b[0m\u001b[0;34m(\u001b[0m\u001b[0;34m'The price attribute must be positive'\u001b[0m\u001b[0;34m)\u001b[0m\u001b[0;34m\u001b[0m\u001b[0;34m\u001b[0m\u001b[0m\n\u001b[0m\u001b[1;32m     16\u001b[0m     \u001b[0;32melse\u001b[0m\u001b[0;34m:\u001b[0m\u001b[0;34m\u001b[0m\u001b[0;34m\u001b[0m\u001b[0m\n\u001b[1;32m     17\u001b[0m       \u001b[0;32mraise\u001b[0m \u001b[0mTypeError\u001b[0m\u001b[0;34m(\u001b[0m\u001b[0;34m'The price attribute must be int or float value.'\u001b[0m\u001b[0;34m)\u001b[0m\u001b[0;34m\u001b[0m\u001b[0;34m\u001b[0m\u001b[0m\n",
            "\u001b[0;31mValueError\u001b[0m: The price attribute must be positive"
          ]
        }
      ]
    },
    {
      "cell_type": "code",
      "source": [
        "phone.__dict__"
      ],
      "metadata": {
        "colab": {
          "base_uri": "https://localhost:8080/"
        },
        "id": "bmbYEzL5kiMg",
        "outputId": "7849a277-e2e9-4186-e4d2-67780efd0560"
      },
      "execution_count": null,
      "outputs": [
        {
          "output_type": "execute_result",
          "data": {
            "text/plain": [
              "{'_price': 1200}"
            ]
          },
          "metadata": {},
          "execution_count": 47
        }
      ]
    },
    {
      "cell_type": "code",
      "source": [
        "class Phone:\n",
        "  def __init__(self, price):\n",
        "    self._price = price\n",
        "\n",
        "  def get_price(self):\n",
        "    print('getting ...')\n",
        "    return self._price\n",
        "\n",
        "  def set_price(self, value):\n",
        "    print('setting ...')\n",
        "    if isinstance(value, (int, float)):\n",
        "      if value > 0:\n",
        "        self._price = value\n",
        "      else:\n",
        "        raise ValueError('The price attribute must be positive')\n",
        "    else:\n",
        "      raise TypeError('The price attribute must be int or float value.')\n",
        "\n",
        "  def del_price(self):\n",
        "    print('deleting...')\n",
        "    del self._price\n",
        "\n",
        "\n",
        "  price = property(fget=get_price, fset=set_price, fdel=del_price)\n",
        "\n",
        "Phone.__dict__"
      ],
      "metadata": {
        "id": "qcX_i9j9qiJO"
      },
      "execution_count": null,
      "outputs": []
    },
    {
      "cell_type": "code",
      "source": [
        "phoneA = Phone(3000)\n",
        "phoneA.price"
      ],
      "metadata": {
        "id": "HBkN7g04qyNJ"
      },
      "execution_count": null,
      "outputs": []
    },
    {
      "cell_type": "code",
      "source": [
        "phoneA.price = 25000\n",
        "print(f'{phoneA.price}')"
      ],
      "metadata": {
        "id": "Zv_wnZj-q6gr"
      },
      "execution_count": null,
      "outputs": []
    },
    {
      "cell_type": "code",
      "source": [
        "del phoneA.price"
      ],
      "metadata": {
        "colab": {
          "base_uri": "https://localhost:8080/"
        },
        "id": "GEw2sUPfrJ_k",
        "outputId": "38ac43bd-0a87-469c-ae2e-9732b34ce2c6"
      },
      "execution_count": null,
      "outputs": [
        {
          "output_type": "stream",
          "name": "stdout",
          "text": [
            "deleting...\n"
          ]
        }
      ]
    },
    {
      "cell_type": "code",
      "source": [
        "phoneA.__dict__"
      ],
      "metadata": {
        "colab": {
          "base_uri": "https://localhost:8080/"
        },
        "id": "uIH345GDrPNX",
        "outputId": "b3eba8aa-439c-428f-f4e8-429812a80c8a"
      },
      "execution_count": null,
      "outputs": [
        {
          "output_type": "execute_result",
          "data": {
            "text/plain": [
              "{}"
            ]
          },
          "metadata": {},
          "execution_count": 9
        }
      ]
    },
    {
      "cell_type": "code",
      "source": [
        "phoneA.price = 120"
      ],
      "metadata": {
        "colab": {
          "base_uri": "https://localhost:8080/"
        },
        "id": "pMtiz2DJrh40",
        "outputId": "91c57391-aaa1-4828-a3de-6ff7bb930790"
      },
      "execution_count": null,
      "outputs": [
        {
          "output_type": "stream",
          "name": "stdout",
          "text": [
            "setting ...\n"
          ]
        }
      ]
    },
    {
      "cell_type": "code",
      "source": [
        "del phoneA.price"
      ],
      "metadata": {
        "colab": {
          "base_uri": "https://localhost:8080/"
        },
        "id": "qeTUfvm3rnlO",
        "outputId": "6a72de34-725b-4843-cece-ab695ced615e"
      },
      "execution_count": null,
      "outputs": [
        {
          "output_type": "stream",
          "name": "stdout",
          "text": [
            "deleting...\n"
          ]
        }
      ]
    },
    {
      "cell_type": "code",
      "source": [
        "class Phone:\n",
        "  \"\"\"Phone class docs.\"\"\"\n",
        "\n",
        "  def __init__(self, price):\n",
        "    self._price = price\n",
        "\n",
        "  def get_price(self):\n",
        "    print('getting ...')\n",
        "    return self._price\n",
        "\n",
        "  def set_price(self, value):\n",
        "    print('setting ...')\n",
        "    if isinstance(value, (int, float)):\n",
        "      if value > 0:\n",
        "        self._price = value\n",
        "      else:\n",
        "        raise ValueError('The price attribute must be positive')\n",
        "    else:\n",
        "      raise TypeError('The price attribute must be int or float value.')\n",
        "\n",
        "  def del_price(self):\n",
        "    print('deleting...')\n",
        "    del self._price\n",
        "\n",
        "\n",
        "  price = property(fget=get_price, fset=set_price, fdel=del_price, doc='Phone price.')\n",
        "\n",
        "Phone.__dict__"
      ],
      "metadata": {
        "id": "luesJG5EryoU"
      },
      "execution_count": null,
      "outputs": []
    },
    {
      "cell_type": "code",
      "source": [
        "help(Phone)"
      ],
      "metadata": {
        "colab": {
          "base_uri": "https://localhost:8080/"
        },
        "id": "vft73fhTr7C-",
        "outputId": "c23f901c-1113-4906-c609-a1df6ff0799d"
      },
      "execution_count": null,
      "outputs": [
        {
          "output_type": "stream",
          "name": "stdout",
          "text": [
            "Help on class Phone in module __main__:\n",
            "\n",
            "class Phone(builtins.object)\n",
            " |  Phone(price)\n",
            " |  \n",
            " |  Phone class docs.\n",
            " |  \n",
            " |  Methods defined here:\n",
            " |  \n",
            " |  __init__(self, price)\n",
            " |      Initialize self.  See help(type(self)) for accurate signature.\n",
            " |  \n",
            " |  del_price(self)\n",
            " |  \n",
            " |  get_price(self)\n",
            " |  \n",
            " |  set_price(self, value)\n",
            " |  \n",
            " |  ----------------------------------------------------------------------\n",
            " |  Data descriptors defined here:\n",
            " |  \n",
            " |  __dict__\n",
            " |      dictionary for instance variables (if defined)\n",
            " |  \n",
            " |  __weakref__\n",
            " |      list of weak references to the object (if defined)\n",
            " |  \n",
            " |  price\n",
            " |      Phone price.\n",
            "\n"
          ]
        }
      ]
    },
    {
      "cell_type": "markdown",
      "source": [
        "# Dekoratory\n",
        "\n",
        "m.in. Umożliwia modyfikację działania funkcji bez ingerencji w nią samą \n",
        "(np aby zmierzyć czas wykonania lub wykonanie jej w ściśle określonych warunkach)"
      ],
      "metadata": {
        "id": "ewwol6zlsSeO"
      }
    },
    {
      "cell_type": "code",
      "source": [
        "def hello():\n",
        "  print('Python 3.8')\n",
        "\n",
        "hello()"
      ],
      "metadata": {
        "colab": {
          "base_uri": "https://localhost:8080/"
        },
        "id": "ZcUM-2KasRsH",
        "outputId": "f44d8a27-0b49-4490-84cf-84b5a5312cf5"
      },
      "execution_count": null,
      "outputs": [
        {
          "output_type": "stream",
          "name": "stdout",
          "text": [
            "Python 3.8\n"
          ]
        }
      ]
    },
    {
      "cell_type": "code",
      "source": [
        "def pretty_print(func):\n",
        "  def wrapper2():\n",
        "    print('=' * 30)\n",
        "    func()\n",
        "    print('=' * 30)\n",
        "  return wrapper2\n",
        "\n",
        "pretty_print(hello)\n"
      ],
      "metadata": {
        "colab": {
          "base_uri": "https://localhost:8080/"
        },
        "id": "ikAcMjjrtHQT",
        "outputId": "728b2bc1-a735-4c71-fa35-f3ed1d61c582"
      },
      "execution_count": null,
      "outputs": [
        {
          "output_type": "execute_result",
          "data": {
            "text/plain": [
              "<function __main__.pretty_print.<locals>.wrapper2()>"
            ]
          },
          "metadata": {},
          "execution_count": 8
        }
      ]
    },
    {
      "cell_type": "code",
      "source": [
        "pretty_print(hello)()"
      ],
      "metadata": {
        "colab": {
          "base_uri": "https://localhost:8080/"
        },
        "id": "1KbF8L12tYU2",
        "outputId": "e1167ad5-7519-496f-d4bd-5ebcc1783e6e"
      },
      "execution_count": null,
      "outputs": [
        {
          "output_type": "stream",
          "name": "stdout",
          "text": [
            "==============================\n",
            "Python 3.8\n",
            "==============================\n"
          ]
        }
      ]
    },
    {
      "cell_type": "code",
      "source": [
        "def hello():\n",
        "  print('Python 3.8')\n",
        "  \n",
        "def pretty_print(func):\n",
        "  def wrapper2():\n",
        "    print('=' * 30)\n",
        "    func()\n",
        "    print('=' * 30)\n",
        "  return wrapper2\n",
        "\n",
        "hello = pretty_print(hello)"
      ],
      "metadata": {
        "id": "8ximD_8L2j1Z"
      },
      "execution_count": null,
      "outputs": []
    },
    {
      "cell_type": "code",
      "source": [
        "hello()"
      ],
      "metadata": {
        "colab": {
          "base_uri": "https://localhost:8080/"
        },
        "id": "ztX6MF982sbq",
        "outputId": "2cac342e-8989-408b-9eb4-d3d2c5e3d49a"
      },
      "execution_count": null,
      "outputs": [
        {
          "output_type": "stream",
          "name": "stdout",
          "text": [
            "==============================\n",
            "Python 3.8\n",
            "==============================\n"
          ]
        }
      ]
    },
    {
      "cell_type": "code",
      "source": [
        " def pretty_print(func):\n",
        "  def wrapper2():\n",
        "    print('=' * 30)\n",
        "    func()\n",
        "    print('=' * 30)\n",
        "  return wrapper2\n",
        "\n",
        "@pretty_print\n",
        "def hello():\n",
        "  print('Python 3.8')"
      ],
      "metadata": {
        "id": "ba2BGyrb2y0E"
      },
      "execution_count": null,
      "outputs": []
    },
    {
      "cell_type": "code",
      "source": [
        "hello()"
      ],
      "metadata": {
        "colab": {
          "base_uri": "https://localhost:8080/"
        },
        "id": "IiXtRWJ_28az",
        "outputId": "045b11dc-edf9-426a-c8cb-5d3ea518613e"
      },
      "execution_count": null,
      "outputs": [
        {
          "output_type": "stream",
          "name": "stdout",
          "text": [
            "==============================\n",
            "Python 3.8\n",
            "==============================\n"
          ]
        }
      ]
    },
    {
      "cell_type": "markdown",
      "source": [
        "# Przykład dekoratora"
      ],
      "metadata": {
        "id": "SOyvVvAe3UcY"
      }
    },
    {
      "cell_type": "code",
      "source": [
        "import time\n",
        "\n",
        "time.time()\n"
      ],
      "metadata": {
        "colab": {
          "base_uri": "https://localhost:8080/"
        },
        "id": "Vraju_Tj3WWC",
        "outputId": "4c82183a-be85-495f-ca87-dbb8a4582078"
      },
      "execution_count": null,
      "outputs": [
        {
          "output_type": "execute_result",
          "data": {
            "text/plain": [
              "1646949930.3089826"
            ]
          },
          "metadata": {},
          "execution_count": 14
        }
      ]
    },
    {
      "cell_type": "code",
      "source": [
        "time.sleep(2)"
      ],
      "metadata": {
        "id": "h0AW_hX73Ztz"
      },
      "execution_count": null,
      "outputs": []
    },
    {
      "cell_type": "code",
      "source": [
        "import time\n",
        "\n",
        "def timer(func):\n",
        "  def wrapper(sec):\n",
        "    start = time.time()\n",
        "    func(sec)\n",
        "    stop = time.time()\n",
        "    print(f'Execution time: {stop - start:.4f}')\n",
        "  return wrapper\n",
        "\n",
        "@timer\n",
        "def fake_sleep(sec):\n",
        "  print(f'Executing {fake_sleep.__name__}')\n",
        "  time.sleep(sec)\n",
        "\n",
        "fake_sleep(2)"
      ],
      "metadata": {
        "colab": {
          "base_uri": "https://localhost:8080/"
        },
        "id": "YsKaY5Uw3b5d",
        "outputId": "69badaa5-1b48-4b3e-e2b0-a435a486d2cd"
      },
      "execution_count": null,
      "outputs": [
        {
          "output_type": "stream",
          "name": "stdout",
          "text": [
            "Executing wrapper\n",
            "Execution time: 2.0033\n"
          ]
        }
      ]
    },
    {
      "cell_type": "code",
      "source": [
        "fake_sleep(4)"
      ],
      "metadata": {
        "colab": {
          "base_uri": "https://localhost:8080/"
        },
        "id": "BbJypx_d38Pu",
        "outputId": "23a67ef2-8cf5-4fad-ae1b-7fa8196165d1"
      },
      "execution_count": null,
      "outputs": [
        {
          "output_type": "stream",
          "name": "stdout",
          "text": [
            "Executing wrapper\n",
            "Execution time: 4.0179\n"
          ]
        }
      ]
    },
    {
      "cell_type": "code",
      "source": [
        "fake_sleep = timer(fake_sleep)"
      ],
      "metadata": {
        "id": "ouC7FOFU4u0j"
      },
      "execution_count": null,
      "outputs": []
    },
    {
      "cell_type": "code",
      "source": [
        "fake_sleep(5)"
      ],
      "metadata": {
        "colab": {
          "base_uri": "https://localhost:8080/"
        },
        "id": "CmpWMA3p4xrr",
        "outputId": "0f485208-925d-4975-df66-a7dc03dd39bf"
      },
      "execution_count": null,
      "outputs": [
        {
          "output_type": "stream",
          "name": "stdout",
          "text": [
            "Executing wrapper\n",
            "Execution time: 5.0187\n"
          ]
        }
      ]
    },
    {
      "cell_type": "markdown",
      "source": [
        "# Dekorator @property\n"
      ],
      "metadata": {
        "id": "A94IP_EZPB9k"
      }
    },
    {
      "cell_type": "code",
      "source": [
        "class Phone:\n",
        "\n",
        "  def __init__(self, price):\n",
        "    self._price = price\n",
        "\n",
        "  @property\n",
        "  def price(self):\n",
        "    print('getting ...')\n",
        "    return self._price\n",
        "  \n",
        "Phone.__dict__"
      ],
      "metadata": {
        "id": "91kImA6WPEwj"
      },
      "execution_count": null,
      "outputs": []
    },
    {
      "cell_type": "code",
      "source": [
        "phone = Phone(2000)\n",
        "phone.__dict__"
      ],
      "metadata": {
        "colab": {
          "base_uri": "https://localhost:8080/"
        },
        "id": "HL3dftydPkoV",
        "outputId": "0f3c64f7-a90f-453f-956f-c00c99c51537"
      },
      "execution_count": null,
      "outputs": [
        {
          "output_type": "execute_result",
          "data": {
            "text/plain": [
              "{'_price': 2000}"
            ]
          },
          "metadata": {},
          "execution_count": 33
        }
      ]
    },
    {
      "cell_type": "code",
      "source": [
        "phone.price"
      ],
      "metadata": {
        "colab": {
          "base_uri": "https://localhost:8080/"
        },
        "id": "-nX2l9vqPom9",
        "outputId": "82a72c3e-9af6-4994-8f81-d1eb841542e9"
      },
      "execution_count": null,
      "outputs": [
        {
          "output_type": "stream",
          "name": "stdout",
          "text": [
            "getting ...\n"
          ]
        },
        {
          "output_type": "execute_result",
          "data": {
            "text/plain": [
              "2000"
            ]
          },
          "metadata": {},
          "execution_count": 34
        }
      ]
    },
    {
      "cell_type": "code",
      "source": [
        "phone.price = 1000"
      ],
      "metadata": {
        "colab": {
          "base_uri": "https://localhost:8080/",
          "height": 172
        },
        "id": "yLINtor_PsXl",
        "outputId": "134346b9-ad18-42b0-9c60-d03c9260a180"
      },
      "execution_count": null,
      "outputs": [
        {
          "output_type": "error",
          "ename": "AttributeError",
          "evalue": "ignored",
          "traceback": [
            "\u001b[1;31m---------------------------------------------------------------------------\u001b[0m",
            "\u001b[1;31mAttributeError\u001b[0m                            Traceback (most recent call last)",
            "\u001b[1;32m~\\AppData\\Local\\Temp/ipykernel_17700/1427760586.py\u001b[0m in \u001b[0;36m<module>\u001b[1;34m\u001b[0m\n\u001b[1;32m----> 1\u001b[1;33m \u001b[0mphone\u001b[0m\u001b[1;33m.\u001b[0m\u001b[0mprice\u001b[0m \u001b[1;33m=\u001b[0m \u001b[1;36m1000\u001b[0m\u001b[1;33m\u001b[0m\u001b[1;33m\u001b[0m\u001b[0m\n\u001b[0m",
            "\u001b[1;31mAttributeError\u001b[0m: can't set attribute"
          ]
        }
      ]
    },
    {
      "cell_type": "markdown",
      "source": [
        "# Dekorator @property - c.d"
      ],
      "metadata": {
        "id": "r_tmSGGAQbuV"
      }
    },
    {
      "cell_type": "code",
      "source": [
        "class Phone:\n",
        "\n",
        "  def __init__(self, price):\n",
        "    self._price = price\n",
        "\n",
        "  @property\n",
        "  def price(self):\n",
        "    print('getting ...')\n",
        "    return self._price\n",
        "\n",
        "  def set_price(self, value):\n",
        "    print('setting ...')\n",
        "    if isinstance(value, (int, float)):\n",
        "      if value > 0:\n",
        "        self._price = value\n",
        "      else:\n",
        "        raise ValueError('The price attribute must be positive')\n",
        "    else:\n",
        "      raise TypeError('The price attribute must be int or float')\n",
        "  \n",
        "  #price = property(fset=set_price)\n",
        "  price = price.setter(set_price)\n",
        "  \n",
        "Phone.__dict__"
      ],
      "metadata": {
        "id": "4Pje9fZsQe5J"
      },
      "execution_count": null,
      "outputs": []
    },
    {
      "cell_type": "code",
      "source": [
        "phone = Phone(2000)\n",
        "phone.price"
      ],
      "metadata": {
        "colab": {
          "base_uri": "https://localhost:8080/"
        },
        "id": "x2mCgpRtRKeG",
        "outputId": "588ea130-8de8-41d6-8222-1150175ff69a"
      },
      "execution_count": null,
      "outputs": [
        {
          "output_type": "stream",
          "name": "stdout",
          "text": [
            "getting ...\n"
          ]
        },
        {
          "output_type": "execute_result",
          "data": {
            "text/plain": [
              "2000"
            ]
          },
          "metadata": {},
          "execution_count": 39
        }
      ]
    },
    {
      "cell_type": "code",
      "source": [
        "phone.price = 1000"
      ],
      "metadata": {
        "colab": {
          "base_uri": "https://localhost:8080/"
        },
        "id": "FKh__X5hRNlc",
        "outputId": "27ea7aa1-23a8-4ddc-b9fa-1e59b3097a43"
      },
      "execution_count": null,
      "outputs": [
        {
          "output_type": "stream",
          "name": "stdout",
          "text": [
            "setting ...\n"
          ]
        }
      ]
    },
    {
      "cell_type": "markdown",
      "source": [
        "# @property - c.d. v2"
      ],
      "metadata": {
        "id": "Z4BFL-iURexu"
      }
    },
    {
      "cell_type": "code",
      "source": [
        "class Phone:\n",
        "\n",
        "  def __init__(self, price):\n",
        "    self._price = price\n",
        "\n",
        "  @property\n",
        "  def price(self):\n",
        "    print('getting ...')\n",
        "    return self._price\n",
        "\n",
        "  @price.setter\n",
        "  def set_price(self, value):\n",
        "    print('setting ...')\n",
        "    if isinstance(value, (int, float)):\n",
        "      if value > 0:\n",
        "        self._price = value\n",
        "      else:\n",
        "        raise ValueError('The price attribute must be positive')\n",
        "    else:\n",
        "      raise TypeError('The price attribute must be int or float')\n",
        "  \n",
        "Phone.__dict__"
      ],
      "metadata": {
        "id": "0IAjjd7BRjG-"
      },
      "execution_count": null,
      "outputs": []
    },
    {
      "cell_type": "code",
      "source": [
        "phone = Phone(2000)\n",
        "phone.price"
      ],
      "metadata": {
        "colab": {
          "base_uri": "https://localhost:8080/"
        },
        "id": "ARoNcWELRr7u",
        "outputId": "d2c7d954-26f3-4d9b-e86a-e2f1757b6a74"
      },
      "execution_count": null,
      "outputs": [
        {
          "output_type": "stream",
          "name": "stdout",
          "text": [
            "getting ...\n"
          ]
        },
        {
          "output_type": "execute_result",
          "data": {
            "text/plain": [
              "2000"
            ]
          },
          "metadata": {},
          "execution_count": 42
        }
      ]
    },
    {
      "cell_type": "code",
      "source": [
        "phone.price = 1000"
      ],
      "metadata": {
        "colab": {
          "base_uri": "https://localhost:8080/"
        },
        "id": "yxw3ZgyBRuQq",
        "outputId": "e5bf5d68-7535-4f15-ff16-62afbbad8b7d"
      },
      "execution_count": null,
      "outputs": [
        {
          "output_type": "stream",
          "name": "stdout",
          "text": [
            "setting ...\n"
          ]
        }
      ]
    },
    {
      "cell_type": "markdown",
      "source": [
        "# @property - del attribute"
      ],
      "metadata": {
        "id": "tqoIoQC_SFpM"
      }
    },
    {
      "cell_type": "code",
      "source": [
        "class Phone:\n",
        "\n",
        "  def __init__(self, price):\n",
        "    self._price = price\n",
        "\n",
        "  @property\n",
        "  def price(self):\n",
        "    print('getting ...')\n",
        "    return self._price\n",
        "\n",
        "  @price.setter\n",
        "  def price(self, value):\n",
        "    print('setting ...')\n",
        "    if isinstance(value, (int, float)):\n",
        "      if value > 0:\n",
        "        self._price = value\n",
        "      else:\n",
        "        raise ValueError('The price attribute must be positive')\n",
        "    else:\n",
        "      raise TypeError('The price attribute must be int or float')\n",
        "  \n",
        "  @price.deleter\n",
        "  def price(self):\n",
        "    print('deleting ...')\n",
        "    del self._price\n",
        "  \n",
        "Phone.__dict__"
      ],
      "metadata": {
        "id": "G1TY6FSUSIds"
      },
      "execution_count": null,
      "outputs": []
    },
    {
      "cell_type": "code",
      "source": [
        "phone = Phone(1000)\n",
        "phone.price"
      ],
      "metadata": {
        "colab": {
          "base_uri": "https://localhost:8080/"
        },
        "id": "yhl3tE_oSktG",
        "outputId": "8ccd2643-318d-452d-d349-d18da5362f61"
      },
      "execution_count": null,
      "outputs": [
        {
          "output_type": "stream",
          "name": "stdout",
          "text": [
            "getting ...\n"
          ]
        },
        {
          "output_type": "execute_result",
          "data": {
            "text/plain": [
              "1000"
            ]
          },
          "metadata": {},
          "execution_count": 44
        }
      ]
    },
    {
      "cell_type": "code",
      "source": [
        "del phone.price"
      ],
      "metadata": {
        "colab": {
          "base_uri": "https://localhost:8080/"
        },
        "id": "V7BOfAVDSonR",
        "outputId": "9e8eee5d-de7d-4d2f-aac1-7fbf1262d691"
      },
      "execution_count": null,
      "outputs": [
        {
          "output_type": "stream",
          "name": "stdout",
          "text": [
            "deleting ...\n"
          ]
        }
      ]
    },
    {
      "cell_type": "markdown",
      "source": [
        "# Tworzenie klasy nie podlega @setter"
      ],
      "metadata": {
        "id": "0yfuoMNSS6lw"
      }
    },
    {
      "cell_type": "code",
      "source": [
        "class Phone:\n",
        "\n",
        "  def __init__(self, price):\n",
        "    self._price = price\n",
        "\n",
        "  @property\n",
        "  def price(self):\n",
        "    print('getting ...')\n",
        "    return self._price\n",
        "\n",
        "  @price.setter\n",
        "  def price(self, value):\n",
        "    print('setting ...')\n",
        "    if isinstance(value, (int, float)):\n",
        "      if value > 0:\n",
        "        self._price = value\n",
        "      else:\n",
        "        raise ValueError('The price attribute must be positive')\n",
        "    else:\n",
        "      raise TypeError('The price attribute must be int or float')\n",
        "  \n",
        "  @price.deleter\n",
        "  def price(self):\n",
        "    print('deleting ...')\n",
        "    del self._price\n",
        "  \n",
        "Phone.__dict__"
      ],
      "metadata": {
        "id": "0o0jSvR7S4nb"
      },
      "execution_count": null,
      "outputs": []
    },
    {
      "cell_type": "code",
      "source": [
        "phone6 = Phone(-1)"
      ],
      "metadata": {
        "id": "bOG7b_tHTCqb"
      },
      "execution_count": null,
      "outputs": []
    },
    {
      "cell_type": "code",
      "source": [
        "phone6.price"
      ],
      "metadata": {
        "colab": {
          "base_uri": "https://localhost:8080/"
        },
        "id": "b7BRey4rTHoZ",
        "outputId": "57bff056-6977-4c50-d1c3-ef96e53b8f3a"
      },
      "execution_count": null,
      "outputs": [
        {
          "output_type": "stream",
          "name": "stdout",
          "text": [
            "getting ...\n"
          ]
        },
        {
          "output_type": "execute_result",
          "data": {
            "text/plain": [
              "-1"
            ]
          },
          "metadata": {},
          "execution_count": 50
        }
      ]
    },
    {
      "cell_type": "markdown",
      "source": [
        "# __init__ property"
      ],
      "metadata": {
        "id": "OX3r7Nc2TORY"
      }
    },
    {
      "cell_type": "code",
      "source": [
        "class Phone:\n",
        "\n",
        "  def __init__(self, price):\n",
        "    self.price = price\n",
        "\n",
        "  @property\n",
        "  def price(self):\n",
        "    print('getting ...')\n",
        "    return self._price\n",
        "\n",
        "  @price.setter\n",
        "  def price(self, value):\n",
        "    print('setting ...')\n",
        "    if isinstance(value, (int, float)):\n",
        "      if value > 0:\n",
        "        self._price = value\n",
        "      else:\n",
        "        raise ValueError('The price attribute must be positive')\n",
        "    else:\n",
        "      raise TypeError('The price attribute must be int or float')\n",
        "  \n",
        "  @price.deleter\n",
        "  def price(self):\n",
        "    print('deleting ...')\n",
        "    del self._price\n",
        "  \n",
        "Phone.__dict__"
      ],
      "metadata": {
        "colab": {
          "base_uri": "https://localhost:8080/"
        },
        "id": "63DqsTR6TN6i",
        "outputId": "8184dfe5-b325-42bf-ad42-f27ab8e4261f"
      },
      "execution_count": null,
      "outputs": [
        {
          "output_type": "execute_result",
          "data": {
            "text/plain": [
              "mappingproxy({'__module__': '__main__',\n",
              "              '__init__': <function __main__.Phone.__init__(self, price)>,\n",
              "              'price': <property at 0x143b02732c0>,\n",
              "              '__dict__': <attribute '__dict__' of 'Phone' objects>,\n",
              "              '__weakref__': <attribute '__weakref__' of 'Phone' objects>,\n",
              "              '__doc__': None})"
            ]
          },
          "metadata": {},
          "execution_count": 51
        }
      ]
    },
    {
      "cell_type": "code",
      "source": [
        "phone6 = Phone(\"Some string\")"
      ],
      "metadata": {
        "colab": {
          "base_uri": "https://localhost:8080/",
          "height": 448
        },
        "id": "lg-LPahNTfwt",
        "outputId": "5c9ef812-09b4-4edc-cc8c-84a6e4321833"
      },
      "execution_count": null,
      "outputs": [
        {
          "output_type": "stream",
          "name": "stdout",
          "text": [
            "setting ...\n"
          ]
        },
        {
          "output_type": "error",
          "ename": "TypeError",
          "evalue": "ignored",
          "traceback": [
            "\u001b[1;31m---------------------------------------------------------------------------\u001b[0m",
            "\u001b[1;31mTypeError\u001b[0m                                 Traceback (most recent call last)",
            "\u001b[1;32m~\\AppData\\Local\\Temp/ipykernel_17700/3965817692.py\u001b[0m in \u001b[0;36m<module>\u001b[1;34m\u001b[0m\n\u001b[1;32m----> 1\u001b[1;33m \u001b[0mphone6\u001b[0m \u001b[1;33m=\u001b[0m \u001b[0mPhone\u001b[0m\u001b[1;33m(\u001b[0m\u001b[1;34m\"Some string\"\u001b[0m\u001b[1;33m)\u001b[0m\u001b[1;33m\u001b[0m\u001b[1;33m\u001b[0m\u001b[0m\n\u001b[0m",
            "\u001b[1;32m~\\AppData\\Local\\Temp/ipykernel_17700/192302009.py\u001b[0m in \u001b[0;36m__init__\u001b[1;34m(self, price)\u001b[0m\n\u001b[0;32m      2\u001b[0m \u001b[1;33m\u001b[0m\u001b[0m\n\u001b[0;32m      3\u001b[0m   \u001b[1;32mdef\u001b[0m \u001b[0m__init__\u001b[0m\u001b[1;33m(\u001b[0m\u001b[0mself\u001b[0m\u001b[1;33m,\u001b[0m \u001b[0mprice\u001b[0m\u001b[1;33m)\u001b[0m\u001b[1;33m:\u001b[0m\u001b[1;33m\u001b[0m\u001b[1;33m\u001b[0m\u001b[0m\n\u001b[1;32m----> 4\u001b[1;33m     \u001b[0mself\u001b[0m\u001b[1;33m.\u001b[0m\u001b[0mprice\u001b[0m \u001b[1;33m=\u001b[0m \u001b[0mprice\u001b[0m\u001b[1;33m\u001b[0m\u001b[1;33m\u001b[0m\u001b[0m\n\u001b[0m\u001b[0;32m      5\u001b[0m \u001b[1;33m\u001b[0m\u001b[0m\n\u001b[0;32m      6\u001b[0m   \u001b[1;33m@\u001b[0m\u001b[0mproperty\u001b[0m\u001b[1;33m\u001b[0m\u001b[1;33m\u001b[0m\u001b[0m\n",
            "\u001b[1;32m~\\AppData\\Local\\Temp/ipykernel_17700/192302009.py\u001b[0m in \u001b[0;36mprice\u001b[1;34m(self, value)\u001b[0m\n\u001b[0;32m     18\u001b[0m         \u001b[1;32mraise\u001b[0m \u001b[0mValueError\u001b[0m\u001b[1;33m(\u001b[0m\u001b[1;34m'The price attribute must be positive'\u001b[0m\u001b[1;33m)\u001b[0m\u001b[1;33m\u001b[0m\u001b[1;33m\u001b[0m\u001b[0m\n\u001b[0;32m     19\u001b[0m     \u001b[1;32melse\u001b[0m\u001b[1;33m:\u001b[0m\u001b[1;33m\u001b[0m\u001b[1;33m\u001b[0m\u001b[0m\n\u001b[1;32m---> 20\u001b[1;33m       \u001b[1;32mraise\u001b[0m \u001b[0mTypeError\u001b[0m\u001b[1;33m(\u001b[0m\u001b[1;34m'The price attribute must be int or float'\u001b[0m\u001b[1;33m)\u001b[0m\u001b[1;33m\u001b[0m\u001b[1;33m\u001b[0m\u001b[0m\n\u001b[0m\u001b[0;32m     21\u001b[0m \u001b[1;33m\u001b[0m\u001b[0m\n\u001b[0;32m     22\u001b[0m   \u001b[1;33m@\u001b[0m\u001b[0mprice\u001b[0m\u001b[1;33m.\u001b[0m\u001b[0mdeleter\u001b[0m\u001b[1;33m\u001b[0m\u001b[1;33m\u001b[0m\u001b[0m\n",
            "\u001b[1;31mTypeError\u001b[0m: The price attribute must be int or float"
          ]
        }
      ]
    },
    {
      "cell_type": "markdown",
      "source": [
        "# @property - przykład #1"
      ],
      "metadata": {
        "id": "HxnEhMYLUxLV"
      }
    },
    {
      "cell_type": "code",
      "source": [
        "class Game:\n",
        "\n",
        "  def __init__(self, level=0):\n",
        "    self.level = level\n",
        "  \n",
        "  @property\n",
        "  def level(self):\n",
        "    return self._level\n",
        "  \n",
        "  @level.setter\n",
        "  def level(self, value):\n",
        "    if value < 0:\n",
        "      self._level = 0\n",
        "    elif value > 100:\n",
        "      self._level = 100\n",
        "    else:\n",
        "      self._level = value\n"
      ],
      "metadata": {
        "id": "G7pR0xdgUz1y"
      },
      "execution_count": null,
      "outputs": []
    },
    {
      "cell_type": "code",
      "source": [
        "games = [Game(), Game(10), Game(-10), Game(130)]\n",
        "games"
      ],
      "metadata": {
        "colab": {
          "base_uri": "https://localhost:8080/"
        },
        "id": "zgkTVWeyVeVF",
        "outputId": "1d267ed9-2e54-4783-cd41-85ec81def61a"
      },
      "execution_count": null,
      "outputs": [
        {
          "output_type": "execute_result",
          "data": {
            "text/plain": [
              "[<__main__.Game at 0x143b02b9a60>,\n",
              " <__main__.Game at 0x143b02b9730>,\n",
              " <__main__.Game at 0x143b02b9d60>,\n",
              " <__main__.Game at 0x143b02b98b0>]"
            ]
          },
          "metadata": {},
          "execution_count": 57
        }
      ]
    },
    {
      "cell_type": "code",
      "source": [
        "[game.level for game in games]"
      ],
      "metadata": {
        "colab": {
          "base_uri": "https://localhost:8080/"
        },
        "id": "BLyIkJCEVmfM",
        "outputId": "19210264-e9c7-48e2-872d-56077f093955"
      },
      "execution_count": null,
      "outputs": [
        {
          "output_type": "execute_result",
          "data": {
            "text/plain": [
              "[0, 10, 0, 100]"
            ]
          },
          "metadata": {},
          "execution_count": 58
        }
      ]
    },
    {
      "cell_type": "code",
      "source": [
        "for game in games:\n",
        "  print(f'game.level: {game.level}')"
      ],
      "metadata": {
        "colab": {
          "base_uri": "https://localhost:8080/"
        },
        "id": "gAtVpTWuVt7-",
        "outputId": "0e90f77a-9b28-4c4a-a00f-695dfb475793"
      },
      "execution_count": null,
      "outputs": [
        {
          "output_type": "stream",
          "name": "stdout",
          "text": [
            "game.level: 0\n",
            "game.level: 10\n",
            "game.level: 0\n",
            "game.level: 100\n"
          ]
        }
      ]
    },
    {
      "cell_type": "markdown",
      "source": [
        "# #111 Ćwiczenie 20 - 01"
      ],
      "metadata": {
        "id": "oSZ_TU0CWA47"
      }
    },
    {
      "cell_type": "code",
      "source": [
        "class Smartphone:\n",
        "\n",
        "  def __init__(self, price):\n",
        "    self._price = price\n",
        "\n",
        "  def get_price(self):\n",
        "    return self._price\n",
        "  \n",
        "  def set_price(self, value):\n",
        "    self._price = value\n",
        "\n",
        "smartphone = Smartphone(3499)\n",
        "print(f'{smartphone.get_price()}')\n",
        "smartphone.set_price(3999)\n",
        "print(f'{smartphone.get_price()}')"
      ],
      "metadata": {
        "colab": {
          "base_uri": "https://localhost:8080/"
        },
        "id": "s5o7qSlwW1ih",
        "outputId": "e51db846-ddec-44b5-a4a9-488e21bdeedd"
      },
      "execution_count": null,
      "outputs": [
        {
          "output_type": "stream",
          "name": "stdout",
          "text": [
            "3499\n",
            "3999\n"
          ]
        }
      ]
    },
    {
      "cell_type": "markdown",
      "source": [
        "# 112 Ćwiczenie 21 - 02"
      ],
      "metadata": {
        "id": "s9McKIAbfUx5"
      }
    },
    {
      "cell_type": "code",
      "source": [
        "class Worker:\n",
        "\n",
        "  def __init__(self, first_name, last_name):\n",
        "    self._first_name = first_name\n",
        "    self._last_name = last_name\n",
        "\n",
        "  @property\n",
        "  def first_name(self):\n",
        "    return self._first_name\n",
        "\n",
        "  @property\n",
        "  def last_name(self):\n",
        "    return self._last_name\n",
        "  \n",
        "worker = Worker('John', 'Dow')\n",
        "print(f'{worker.first_name}')\n",
        "print(f'{worker.last_name}')"
      ],
      "metadata": {
        "colab": {
          "base_uri": "https://localhost:8080/"
        },
        "id": "KnidCVQAfXVv",
        "outputId": "81feeae3-6093-40d3-fe42-b7ab8ba1817e"
      },
      "execution_count": null,
      "outputs": [
        {
          "output_type": "stream",
          "name": "stdout",
          "text": [
            "John\n",
            "Dow\n"
          ]
        }
      ]
    },
    {
      "cell_type": "markdown",
      "source": [
        "# 112 Ćwiczenie 21 - 02 - rozwiązanie przedstawione"
      ],
      "metadata": {
        "id": "335igjt5i327"
      }
    },
    {
      "cell_type": "code",
      "source": [
        "class Worker:\n",
        "\n",
        "  def __init__(self, first_name, last_name):\n",
        "    self._first_name = first_name\n",
        "    self._last_name = last_name\n",
        "\n",
        "  def get_first_name(self):\n",
        "    return self._first_name\n",
        "\n",
        "  def get_last_name(self):\n",
        "    return self._last_name\n",
        "  \n",
        "  first_name = property(fget=get_first_name)\n",
        "  last_name = property(fget=get_last_name)\n",
        "  \n",
        "worker = Worker('John', 'Dow')\n",
        "print(f'{worker.first_name}')\n",
        "print(f'{worker.last_name}')"
      ],
      "metadata": {
        "colab": {
          "base_uri": "https://localhost:8080/"
        },
        "id": "7vCk6lRoinHh",
        "outputId": "67ca1776-63dc-4af9-a5c6-a50bf7889898"
      },
      "execution_count": null,
      "outputs": [
        {
          "output_type": "stream",
          "name": "stdout",
          "text": [
            "John\n",
            "Dow\n"
          ]
        }
      ]
    },
    {
      "cell_type": "markdown",
      "source": [
        "# 113 Ćwiczenie 22 - 03"
      ],
      "metadata": {
        "id": "W5zqPPybjCF3"
      }
    },
    {
      "cell_type": "code",
      "source": [
        "class Pet:\n",
        "\n",
        "  def __init__(self, name):\n",
        "    self._name = name\n",
        "  \n",
        "  @property\n",
        "  def name(self):\n",
        "    return self._name\n",
        "  \n",
        "  @name.setter\n",
        "  def name(self, name):\n",
        "    self._name = name\n",
        "  \n",
        "pet = Pet('Max')\n",
        "pet.name = 'Oscar'\n",
        "print(f'{pet.__dict__}')"
      ],
      "metadata": {
        "colab": {
          "base_uri": "https://localhost:8080/"
        },
        "id": "Nh_elbEUjFBB",
        "outputId": "5965e19c-fe82-4250-dfec-acd4a96271cc"
      },
      "execution_count": null,
      "outputs": [
        {
          "output_type": "stream",
          "name": "stdout",
          "text": [
            "{'_name': 'Oscar'}\n"
          ]
        }
      ]
    }
  ]
}